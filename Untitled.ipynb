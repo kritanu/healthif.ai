{
 "cells": [
  {
   "cell_type": "code",
   "execution_count": 1,
   "metadata": {},
   "outputs": [
    {
     "name": "stdout",
     "output_type": "stream",
     "text": [
      "1.6.0-rc1\n"
     ]
    }
   ],
   "source": [
    "import tensorflow as tf\n",
    "import numpy as np\n",
    "print(tf.__version__)"
   ]
  },
  {
   "cell_type": "code",
   "execution_count": 2,
   "metadata": {},
   "outputs": [
    {
     "data": {
      "text/plain": [
       "111"
      ]
     },
     "execution_count": 2,
     "metadata": {},
     "output_type": "execute_result"
    }
   ],
   "source": [
    "import cv2 as cv\n",
    "import os\n",
    "os.chdir(\"D:\\ML Dataset and Models\\Lymphoma\\CLL\")\n",
    "imgDataset = []\n",
    "import os\n",
    "for filename in os.listdir(os.getcwd()):\n",
    "    temp_img = cv.imread(filename)\n",
    "    resized_image = cv.resize(temp_img, (70, 50)) \n",
    "    imgDataset.append(resized_image)\n",
    "imgDataset = np.asarray(imgDataset)\n",
    "len(imgDataset)"
   ]
  },
  {
   "cell_type": "code",
   "execution_count": 3,
   "metadata": {
    "collapsed": true
   },
   "outputs": [],
   "source": [
    "#Optimization variables\n",
    "\n",
    "learning_rate = 0.0001\n",
    "epochs = 20\n",
    "batch_size = 50\n",
    "beta = 0.01 #regularizer\n",
    "\n",
    "#training data placeholders\n",
    "# input x = 70 x 50 pixels = 3500 flattened image\n",
    "\n",
    "x = tf.placeholder(tf.float32, [None, 3500])\n",
    "\n",
    "#dynamically reshape the input\n",
    "\n",
    "x_shaped = tf.reshape(x, [-1, 70, 50, 1])\n",
    "\n",
    "#output data placeholder\n",
    "\n",
    "y = tf.placeholder(tf.float32, [None, 1])\n",
    "\n",
    "#dropout prob placeholder\n",
    "\n",
    "keep_prob = tf.placeholder(tf.float32)"
   ]
  },
  {
   "cell_type": "code",
   "execution_count": 4,
   "metadata": {
    "collapsed": true
   },
   "outputs": [],
   "source": [
    "#function to create layers for model\n",
    "\n",
    "def create_new_conv_layer(input_data, num_input_channels, num_filters, filter_shape, pool_shape, name):\n",
    "    \n",
    "    #make the filter input shape for tf.nn.conv_2d\n",
    "    \n",
    "    conv_filt_shape = [filter_shape[0], filter_shape[1], num_input_channels, num_filters]\n",
    "    \n",
    "    #initialization of w and b for the filter\n",
    "    \n",
    "    weights = tf.Variable(tf.truncated_normal(conv_filt_shape, stddev = 0.03), name= name+'_W')\n",
    "    bias = tf.Variable(tf.truncated_normal([num_filters]), name = name+'_b')\n",
    "    \n",
    "    #setup conv layer operation\n",
    "    \n",
    "    out_layer = tf.nn.conv2d(input_data, weights, [1, 1, 1, 1], padding = \"SAME\")\n",
    "    \n",
    "    #adding the bias\n",
    "    \n",
    "    out_layer += bias\n",
    "    \n",
    "    #relu activation\n",
    "    \n",
    "    out_layer = tf.nn.relu(out_layer)\n",
    "    \n",
    "    #max-pooling\n",
    "    \n",
    "    ksize = [1, pool_shape[0], pool_shape[1], 1]\n",
    "    strides = [1, 2, 2, 1]\n",
    "    out_layer = tf.nn.max_pool(out_layer, ksize = ksize, strides = strides, padding = \"SAME\")\n",
    "    \n",
    "    return out_layer"
   ]
  },
  {
   "cell_type": "code",
   "execution_count": 5,
   "metadata": {
    "collapsed": true
   },
   "outputs": [],
   "source": [
    "#creating some conv layers\n",
    "\n",
    "layer1 = create_new_conv_layer(x_shaped, 1, 32, [30, 30], [2, 2], name='layer1')\n",
    "layer2 = create_new_conv_layer(layer1, 32, 64, [30, 30], [2, 2], name='layer2')"
   ]
  },
  {
   "cell_type": "code",
   "execution_count": 6,
   "metadata": {
    "collapsed": true
   },
   "outputs": [],
   "source": [
    "#FC layer\n",
    "flattened = tf.reshape(layer2, [-1, 70 * 50 * 64])"
   ]
  },
  {
   "cell_type": "code",
   "execution_count": 7,
   "metadata": {
    "collapsed": true
   },
   "outputs": [],
   "source": [
    "#setup some weights and bias values for 1st layer, then activate with ReLU\n",
    "\n",
    "wd1 = tf.Variable(tf.truncated_normal([70 * 50 * 64, 1000], stddev=0.03), name='wd1')\n",
    "bd1 = tf.Variable(tf.truncated_normal([1000], stddev=0.01), name='bd1')\n",
    "dense_layer1 = tf.matmul(flattened, wd1) + bd1\n",
    "dense_layer1 = tf.nn.relu(dense_layer1)\n",
    "\n",
    "#drop out\n",
    "dense_layer1 = tf.nn.dropout(dense_layer1, keep_prob)"
   ]
  },
  {
   "cell_type": "code",
   "execution_count": 8,
   "metadata": {
    "collapsed": true
   },
   "outputs": [],
   "source": [
    "#Another layer with softmax activation\n",
    "\n",
    "wd2 = tf.Variable(tf.truncated_normal([1000, 10], stddev=0.03), name='wd2')\n",
    "bd2 = tf.Variable(tf.truncated_normal([10], stddev=0.01), name='bd2')\n",
    "dense_layer2 = tf.matmul(dense_layer1, wd2) + bd2\n",
    "y_ = tf.nn.softmax(dense_layer2)\n",
    "\n",
    "regularizers = tf.nn.l2_loss(wd2) + tf.nn.l2_loss(bd2)"
   ]
  },
  {
   "cell_type": "code",
   "execution_count": 9,
   "metadata": {
    "collapsed": true
   },
   "outputs": [],
   "source": [
    "#Optimization function \n",
    "\n",
    "#cross_entropy = tf.reduce_mean(tf.nn.softmax_cross_entropy_with_logits_v2(logits=dense_layer2, labels=y))\n",
    "\n",
    "#WITH REGULARIZATION\n",
    "cross_entropy = tf.reduce_mean(tf.nn.softmax_cross_entropy_with_logits_v2(logits=dense_layer2, labels=y) + beta * regularizers)"
   ]
  },
  {
   "cell_type": "code",
   "execution_count": 10,
   "metadata": {},
   "outputs": [
    {
     "ename": "NameError",
     "evalue": "name 'mnist' is not defined",
     "output_type": "error",
     "traceback": [
      "\u001b[1;31m---------------------------------------------------------------------------\u001b[0m",
      "\u001b[1;31mNameError\u001b[0m                                 Traceback (most recent call last)",
      "\u001b[1;32m<ipython-input-10-cc0c2274f13d>\u001b[0m in \u001b[0;36m<module>\u001b[1;34m()\u001b[0m\n\u001b[0;32m     12\u001b[0m     \u001b[1;31m# initialise the variables\u001b[0m\u001b[1;33m\u001b[0m\u001b[1;33m\u001b[0m\u001b[0m\n\u001b[0;32m     13\u001b[0m     \u001b[0msess\u001b[0m\u001b[1;33m.\u001b[0m\u001b[0mrun\u001b[0m\u001b[1;33m(\u001b[0m\u001b[0minit_op\u001b[0m\u001b[1;33m)\u001b[0m\u001b[1;33m\u001b[0m\u001b[0m\n\u001b[1;32m---> 14\u001b[1;33m     \u001b[0mtotal_batch\u001b[0m \u001b[1;33m=\u001b[0m \u001b[0mint\u001b[0m\u001b[1;33m(\u001b[0m\u001b[0mlen\u001b[0m\u001b[1;33m(\u001b[0m\u001b[0mmnist\u001b[0m\u001b[1;33m.\u001b[0m\u001b[0mtrain\u001b[0m\u001b[1;33m.\u001b[0m\u001b[0mlabels\u001b[0m\u001b[1;33m)\u001b[0m \u001b[1;33m/\u001b[0m \u001b[0mbatch_size\u001b[0m\u001b[1;33m)\u001b[0m\u001b[1;33m\u001b[0m\u001b[0m\n\u001b[0m\u001b[0;32m     15\u001b[0m     \u001b[0mwriter\u001b[0m \u001b[1;33m=\u001b[0m \u001b[0mtf\u001b[0m\u001b[1;33m.\u001b[0m\u001b[0msummary\u001b[0m\u001b[1;33m.\u001b[0m\u001b[0mFileWriter\u001b[0m\u001b[1;33m(\u001b[0m\u001b[1;34m\"output\"\u001b[0m\u001b[1;33m,\u001b[0m \u001b[0msess\u001b[0m\u001b[1;33m.\u001b[0m\u001b[0mgraph\u001b[0m\u001b[1;33m)\u001b[0m\u001b[1;33m\u001b[0m\u001b[0m\n\u001b[0;32m     16\u001b[0m     \u001b[1;32mfor\u001b[0m \u001b[0mepoch\u001b[0m \u001b[1;32min\u001b[0m \u001b[0mrange\u001b[0m\u001b[1;33m(\u001b[0m\u001b[0mepochs\u001b[0m\u001b[1;33m)\u001b[0m\u001b[1;33m:\u001b[0m\u001b[1;33m\u001b[0m\u001b[0m\n",
      "\u001b[1;31mNameError\u001b[0m: name 'mnist' is not defined"
     ]
    }
   ],
   "source": [
    "\n",
    "#Accuracy\n",
    "\n",
    "correct_prediction = tf.equal(tf.argmax(y, 1), tf.argmax(y_, 1))\n",
    "accuracy = tf.reduce_mean(tf.cast(correct_prediction, tf.float32))\n",
    "\n",
    "#Setup the initialization operator\n",
    "\n",
    "init_op = tf.global_variables_initializer()\n",
    "\n",
    "\n",
    "batches = tf.train.batch(imgDataset, batch_size=3, enqueue_many=True, capacity=37)\n",
    "\n",
    "\n",
    "with tf.Session() as sess:\n",
    "    # initialise the variables\n",
    "    sess.run(init_op)\n",
    "    total_batch = int(len(#mnist.train.labels) / batch_size)\n",
    "    writer = tf.summary.FileWriter(\"output\", sess.graph)\n",
    "    for epoch in range(epochs):\n",
    "        avg_cost = 0\n",
    "        for i in range(total_batch):\n",
    "            batch_x, batch_y = #mnist.train.next_batch(batch_size=batch_size)\n",
    "            _, c = sess.run([optimizer, cross_entropy], feed_dict={x: batch_x, y: batch_y, keep_prob : 0.5})\n",
    "            avg_cost += c / total_batch\n",
    "        test_acc = sess.run(accuracy, feed_dict={x: #mnist.test.images, y: #mnist.test.labels, keep_prob : 1})\n",
    "        print(\"Epoch:\", (epoch + 1), \"cost =\", \"{:.3f}\".format(avg_cost), \" test accuracy: {:.3f}\".format(test_acc))\n",
    "    #print(\"Test data accuracy:\", accuracy.eval({x: mnist.test.images, y: mnist.test.labels, keep_prob : 1.0}))\n",
    "    #print(\"\\nTraining complete!\")\n",
    "    print(sess.run(accuracy, feed_dict={x: #mnist.test.images, y: #mnist.test.labels, keep_prob : 1.0}))\n",
    "    print(\"--- %s seconds ---\" % (time.time() - start_time))\n",
    "    writer.close()"
   ]
  },
  {
   "cell_type": "code",
   "execution_count": null,
   "metadata": {
    "collapsed": true
   },
   "outputs": [],
   "source": []
  }
 ],
 "metadata": {
  "kernelspec": {
   "display_name": "Python 3",
   "language": "python",
   "name": "python3"
  },
  "language_info": {
   "codemirror_mode": {
    "name": "ipython",
    "version": 3
   },
   "file_extension": ".py",
   "mimetype": "text/x-python",
   "name": "python",
   "nbconvert_exporter": "python",
   "pygments_lexer": "ipython3",
   "version": "3.6.3"
  }
 },
 "nbformat": 4,
 "nbformat_minor": 2
}
